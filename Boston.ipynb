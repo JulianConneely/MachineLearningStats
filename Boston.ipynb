{
 "cells": [
  {
   "cell_type": "code",
   "execution_count": 14,
   "metadata": {},
   "outputs": [],
   "source": [
    "# importing the boston housing dataset\n",
    "\n",
    "from sklearn.datasets import load_boston\n",
    "\n",
    "boston_df = load_boston()\n",
    "\n"
   ]
  },
  {
   "cell_type": "code",
   "execution_count": 1,
   "metadata": {},
   "outputs": [
    {
     "name": "stdout",
     "output_type": "stream",
     "text": [
      "The Zen of Python, by Tim Peters\n",
      "\n",
      "Beautiful is better than ugly.\n",
      "Explicit is better than implicit.\n",
      "Simple is better than complex.\n",
      "Complex is better than complicated.\n",
      "Flat is better than nested.\n",
      "Sparse is better than dense.\n",
      "Readability counts.\n",
      "Special cases aren't special enough to break the rules.\n",
      "Although practicality beats purity.\n",
      "Errors should never pass silently.\n",
      "Unless explicitly silenced.\n",
      "In the face of ambiguity, refuse the temptation to guess.\n",
      "There should be one-- and preferably only one --obvious way to do it.\n",
      "Although that way may not be obvious at first unless you're Dutch.\n",
      "Now is better than never.\n",
      "Although never is often better than *right* now.\n",
      "If the implementation is hard to explain, it's a bad idea.\n",
      "If the implementation is easy to explain, it may be a good idea.\n",
      "Namespaces are one honking great idea -- let's do more of those!\n"
     ]
    }
   ],
   "source": [
    "import this"
   ]
  },
  {
   "cell_type": "code",
   "execution_count": 2,
   "metadata": {},
   "outputs": [],
   "source": [
    "def is_even(a):\n",
    "    if a % 2 == 0:\n",
    "        print('Even!')\n",
    "        return True\n",
    "    print('Odd!')\n",
    "    return False"
   ]
  },
  {
   "cell_type": "code",
   "execution_count": 6,
   "metadata": {},
   "outputs": [
    {
     "name": "stdout",
     "output_type": "stream",
     "text": [
      "Odd!\n"
     ]
    },
    {
     "data": {
      "text/plain": [
       "False"
      ]
     },
     "execution_count": 6,
     "metadata": {},
     "output_type": "execute_result"
    }
   ],
   "source": [
    "is_even (5)"
   ]
  },
  {
   "cell_type": "code",
   "execution_count": 8,
   "metadata": {},
   "outputs": [
    {
     "name": "stdout",
     "output_type": "stream",
     "text": [
      "Even!\n"
     ]
    },
    {
     "data": {
      "text/plain": [
       "True"
      ]
     },
     "execution_count": 8,
     "metadata": {},
     "output_type": "execute_result"
    }
   ],
   "source": [
    "is_even (4)"
   ]
  },
  {
   "cell_type": "code",
   "execution_count": 9,
   "metadata": {},
   "outputs": [
    {
     "name": "stdout",
     "output_type": "stream",
     "text": [
      "5 3\n"
     ]
    }
   ],
   "source": [
    "a = 5\n",
    "b = 3\n",
    "print(a,b)"
   ]
  },
  {
   "cell_type": "code",
   "execution_count": 12,
   "metadata": {},
   "outputs": [
    {
     "name": "stdout",
     "output_type": "stream",
     "text": [
      "18\n"
     ]
    }
   ],
   "source": [
    "a = 6\n",
    "b = 3\n",
    "print(a*b)"
   ]
  },
  {
   "cell_type": "code",
   "execution_count": 13,
   "metadata": {},
   "outputs": [
    {
     "ename": "OSError",
     "evalue": "cannot identify image file <_io.BytesIO object at 0x0000024A38188A40>",
     "output_type": "error",
     "traceback": [
      "\u001b[1;31m---------------------------------------------------------------------------\u001b[0m",
      "\u001b[1;31mOSError\u001b[0m                                   Traceback (most recent call last)",
      "\u001b[1;32m<ipython-input-13-d16e2d2ae393>\u001b[0m in \u001b[0;36m<module>\u001b[1;34m()\u001b[0m\n\u001b[0;32m     10\u001b[0m \u001b[1;32mwith\u001b[0m \u001b[0murllib\u001b[0m\u001b[1;33m.\u001b[0m\u001b[0mrequest\u001b[0m\u001b[1;33m.\u001b[0m\u001b[0murlopen\u001b[0m\u001b[1;33m(\u001b[0m\u001b[0mURL\u001b[0m\u001b[1;33m)\u001b[0m \u001b[1;32mas\u001b[0m \u001b[0murl\u001b[0m\u001b[1;33m:\u001b[0m\u001b[1;33m\u001b[0m\u001b[0m\n\u001b[0;32m     11\u001b[0m     \u001b[0mimagefile\u001b[0m \u001b[1;33m=\u001b[0m \u001b[0mio\u001b[0m\u001b[1;33m.\u001b[0m\u001b[0mBytesIO\u001b[0m\u001b[1;33m(\u001b[0m\u001b[0murl\u001b[0m\u001b[1;33m.\u001b[0m\u001b[0mread\u001b[0m\u001b[1;33m(\u001b[0m\u001b[1;33m)\u001b[0m\u001b[1;33m)\u001b[0m\u001b[1;33m\u001b[0m\u001b[0m\n\u001b[1;32m---> 12\u001b[1;33m     \u001b[0mimage\u001b[0m \u001b[1;33m=\u001b[0m \u001b[0mPIL\u001b[0m\u001b[1;33m.\u001b[0m\u001b[0mImage\u001b[0m\u001b[1;33m.\u001b[0m\u001b[0mopen\u001b[0m\u001b[1;33m(\u001b[0m\u001b[0mimagefile\u001b[0m\u001b[1;33m)\u001b[0m\u001b[1;33m\u001b[0m\u001b[0m\n\u001b[0m\u001b[0;32m     13\u001b[0m     \u001b[0mimagebw\u001b[0m \u001b[1;33m=\u001b[0m \u001b[0mimage\u001b[0m\u001b[1;33m.\u001b[0m\u001b[0mconvert\u001b[0m\u001b[1;33m(\u001b[0m\u001b[1;34m'L'\u001b[0m\u001b[1;33m)\u001b[0m\u001b[1;33m\u001b[0m\u001b[0m\n\u001b[0;32m     14\u001b[0m \u001b[1;33m\u001b[0m\u001b[0m\n",
      "\u001b[1;32m~\\AppData\\Local\\anaconda3\\lib\\site-packages\\PIL\\Image.py\u001b[0m in \u001b[0;36mopen\u001b[1;34m(fp, mode)\u001b[0m\n\u001b[0;32m   2816\u001b[0m     \u001b[1;32mfor\u001b[0m \u001b[0mmessage\u001b[0m \u001b[1;32min\u001b[0m \u001b[0maccept_warnings\u001b[0m\u001b[1;33m:\u001b[0m\u001b[1;33m\u001b[0m\u001b[0m\n\u001b[0;32m   2817\u001b[0m         \u001b[0mwarnings\u001b[0m\u001b[1;33m.\u001b[0m\u001b[0mwarn\u001b[0m\u001b[1;33m(\u001b[0m\u001b[0mmessage\u001b[0m\u001b[1;33m)\u001b[0m\u001b[1;33m\u001b[0m\u001b[0m\n\u001b[1;32m-> 2818\u001b[1;33m     \u001b[1;32mraise\u001b[0m \u001b[0mIOError\u001b[0m\u001b[1;33m(\u001b[0m\u001b[1;34m\"cannot identify image file %r\"\u001b[0m \u001b[1;33m%\u001b[0m \u001b[1;33m(\u001b[0m\u001b[0mfilename\u001b[0m \u001b[1;32mif\u001b[0m \u001b[0mfilename\u001b[0m \u001b[1;32melse\u001b[0m \u001b[0mfp\u001b[0m\u001b[1;33m)\u001b[0m\u001b[1;33m)\u001b[0m\u001b[1;33m\u001b[0m\u001b[0m\n\u001b[0m\u001b[0;32m   2819\u001b[0m \u001b[1;33m\u001b[0m\u001b[0m\n\u001b[0;32m   2820\u001b[0m \u001b[1;33m\u001b[0m\u001b[0m\n",
      "\u001b[1;31mOSError\u001b[0m: cannot identify image file <_io.BytesIO object at 0x0000024A38188A40>"
     ]
    }
   ],
   "source": [
    "# You need to install Pillow for this first: conda install -c anaconda pillow\n",
    "# done\n",
    "\n",
    "import urllib.request\n",
    "import io\n",
    "import PIL.Image\n",
    "\n",
    "URL = 'http://www.gmit.ie/sites/all/themes/gmitpublic/images/gmit_logo.png'\n",
    "\n",
    "with urllib.request.urlopen(URL) as url:\n",
    "    imagefile = io.BytesIO(url.read())\n",
    "    image = PIL.Image.open(imagefile)\n",
    "    imagebw = image.convert('L')\n",
    "\n",
    "display(image, imagebw)"
   ]
  },
  {
   "cell_type": "code",
   "execution_count": 19,
   "metadata": {},
   "outputs": [
    {
     "data": {
      "text/plain": [
       "array([492, 474, 498, 489, 509, 534, 497, 477, 504, 500, 513, 491, 469,\n",
       "       503, 501, 497, 489, 488, 486, 497, 510, 511, 503, 509, 491, 497,\n",
       "       514, 493, 488, 484, 467, 481, 516, 494, 486, 467, 514, 508, 498,\n",
       "       496, 477, 515, 487, 510, 495, 486, 510, 495, 471, 513, 524, 487,\n",
       "       505, 496, 494, 509, 497, 472, 500, 513, 487, 478, 483, 499, 506,\n",
       "       489, 460, 530, 501, 487, 489, 515, 486, 483, 513, 510, 479, 486,\n",
       "       506, 521, 525, 512, 489, 518, 508, 509, 511, 510, 488, 505, 484,\n",
       "       494, 497, 487, 536, 453, 519, 504, 510, 492, 505, 495, 485, 492,\n",
       "       500, 481, 505, 502, 492, 515, 513, 500, 490, 504, 500, 514, 509,\n",
       "       527, 504, 505, 509, 522, 507, 495, 509, 486, 460, 494, 512, 512,\n",
       "       496, 493, 489, 481, 472, 496, 485, 505, 499, 533, 486, 525, 499,\n",
       "       506, 489, 495, 471, 518, 506, 520, 491, 482, 499, 484, 507, 511,\n",
       "       506, 499, 532, 514, 509, 493, 497, 502, 517, 511, 490, 499, 487,\n",
       "       485, 494, 512, 507, 522, 485, 484, 503, 504, 504, 501, 507, 474,\n",
       "       525, 511, 463, 504, 510, 495, 507, 507, 504, 502, 501, 485, 526,\n",
       "       504, 474, 498, 491, 517, 509, 507, 497, 465, 500, 486, 512, 522,\n",
       "       499, 489, 516, 486, 503, 505, 521, 515, 503, 466, 491, 528, 510,\n",
       "       476, 497, 521, 510, 505, 484, 492, 504, 498, 476, 514, 478, 496,\n",
       "       499, 494, 493, 490, 481, 508, 522, 506, 485, 491, 490, 522, 522,\n",
       "       520, 495, 509, 513, 514, 511, 514, 517, 500, 485, 482, 504, 496,\n",
       "       499, 482, 488, 505, 488, 509, 524, 505, 476, 513, 475, 504, 508,\n",
       "       506, 489, 528, 523, 495, 498, 482, 509, 484, 503, 484, 498, 498,\n",
       "       503, 504, 545, 492, 513, 493, 521, 517, 494, 494, 515, 492, 491,\n",
       "       502, 489, 472, 488, 505, 475, 485, 485, 504, 499, 531, 497, 483,\n",
       "       508, 493, 518, 503, 495, 496, 482, 505, 502, 499, 471, 477, 482,\n",
       "       527, 521, 513, 502, 515, 485, 488, 527, 518, 483, 538, 501, 500,\n",
       "       473, 502, 493, 501, 504, 500, 515, 512, 493, 475, 468, 504, 492,\n",
       "       517, 492, 512, 542, 515, 482, 483, 501, 497, 497, 511, 491, 517,\n",
       "       503, 517, 501, 489, 489, 457, 486, 504, 505, 505, 492, 516, 520,\n",
       "       511, 509, 506, 526, 496, 508, 498, 524, 494, 502, 486, 476, 496,\n",
       "       521, 502, 520, 500, 485, 514, 500, 483, 475, 472, 484, 496, 498,\n",
       "       515, 479, 504, 516, 493, 505, 485, 505, 489, 495, 501, 501, 477,\n",
       "       496, 528, 488, 504, 508, 502, 496, 493, 502, 472, 490, 502, 509,\n",
       "       489, 494, 548, 493, 509, 497, 488, 498, 495, 507, 501, 512, 527,\n",
       "       467, 534, 493, 521, 495, 493, 498, 488, 491, 492, 506, 523, 484,\n",
       "       485, 501, 492, 479, 498, 478, 511, 507, 521, 505, 498, 505, 504,\n",
       "       477, 478, 516, 514, 517, 481, 503, 498, 496, 512, 500, 507, 488,\n",
       "       494, 474, 496, 520, 493, 516, 496, 502, 483, 497, 484, 516, 498,\n",
       "       511, 503, 524, 502, 503, 497, 484, 501, 496, 513, 494, 507, 509,\n",
       "       490, 497, 468, 518, 497, 504, 530, 487, 496, 492, 488, 515, 519,\n",
       "       453, 495, 500, 497, 513, 496, 504, 496, 506, 495, 498, 507, 474,\n",
       "       495, 490, 500, 499, 484, 488, 523, 510, 489, 492, 477, 524, 520,\n",
       "       508, 499, 494, 470, 486, 522, 501, 503, 510, 515, 507, 511, 489,\n",
       "       495, 479, 490, 511, 513, 535, 506, 509, 509, 498, 515, 486, 510,\n",
       "       487, 511, 507, 509, 498, 502, 511, 516, 477, 517, 494, 495, 484,\n",
       "       513, 521, 492, 494, 487, 503, 495, 466, 499, 500, 497, 514, 513,\n",
       "       496, 480, 503, 494, 476, 507, 458, 506, 481, 513, 507, 468, 511,\n",
       "       506, 512, 529, 477, 481, 486, 521, 497, 473, 488, 493, 488, 507,\n",
       "       511, 494, 508, 513, 504, 496, 484, 511, 480, 487, 502, 493, 500,\n",
       "       493, 484, 495, 497, 513, 524, 497, 494, 500, 490, 504, 505, 498,\n",
       "       489, 498, 497, 493, 487, 496, 472, 502, 494, 499, 506, 486, 486,\n",
       "       494, 500, 496, 497, 509, 510, 527, 505, 484, 505, 517, 489, 531,\n",
       "       515, 521, 506, 480, 520, 503, 493, 527, 506, 536, 482, 496, 505,\n",
       "       503, 493, 525, 478, 494, 518, 502, 518, 519, 514, 507, 510, 515,\n",
       "       518, 491, 490, 498, 496, 494, 512, 485, 505, 481, 495, 477, 502,\n",
       "       491, 489, 512, 506, 525, 484, 510, 546, 516, 478, 505, 488, 502,\n",
       "       500, 492, 500, 497, 503, 484, 483, 492, 506, 504, 480, 499, 521,\n",
       "       506, 508, 498, 509, 511, 476, 496, 502, 510, 506, 506, 488, 503,\n",
       "       521, 475, 501, 493, 459, 503, 515, 522, 513, 518, 537, 482, 471,\n",
       "       493, 504, 497, 475, 509, 508, 486, 508, 504, 492, 508, 500, 494,\n",
       "       468, 490, 503, 531, 487, 493, 489, 494, 516, 523, 490, 518, 504,\n",
       "       498, 521, 479, 517, 509, 537, 497, 514, 483, 497, 476, 506, 540,\n",
       "       513, 468, 468, 499, 500, 505, 500, 493, 473, 489, 498, 528, 487,\n",
       "       524, 517, 510, 503, 500, 495, 499, 505, 497, 509, 483, 512, 513,\n",
       "       506, 520, 478, 518, 519, 504, 500, 482, 500, 491, 496, 489, 511,\n",
       "       523, 518, 536, 498, 486, 485, 493, 518, 534, 502, 489, 496, 477,\n",
       "       485, 494, 469, 522, 516, 496, 512, 500, 491, 520, 483, 504, 529,\n",
       "       511, 499, 512, 515, 501, 491, 512, 497, 497, 484, 493, 517, 526,\n",
       "       494, 483, 509, 470, 486, 499, 514, 499, 503, 482, 514, 530, 503,\n",
       "       515, 508, 515, 503, 524, 481, 518, 506, 509, 508, 496, 503, 509,\n",
       "       484, 487, 531, 488, 493, 509, 509, 499, 506, 507, 505, 491, 540,\n",
       "       500, 498, 513, 500, 504, 507, 504, 505, 526, 498, 512, 484, 512,\n",
       "       490, 518, 503, 488, 503, 513, 470, 501, 528, 499, 528, 503, 514,\n",
       "       499, 489, 483, 539, 514, 503, 501, 533, 504, 521, 500, 488, 512,\n",
       "       454, 481, 492, 503, 490, 523, 500, 500, 485, 501, 502, 501, 496,\n",
       "       500, 488, 484, 486, 520, 519, 521, 468, 504, 486, 465, 517, 513,\n",
       "       498, 495, 509, 469, 506, 509, 487, 501, 516, 496, 520, 510])"
      ]
     },
     "execution_count": 19,
     "metadata": {},
     "output_type": "execute_result"
    }
   ],
   "source": [
    "# flip a coin 1k times, with a probability of .5, do this 1000 times\n",
    "import numpy as np\n",
    "np.random.binomial(1000, 0.5, 1000)"
   ]
  },
  {
   "cell_type": "code",
   "execution_count": 21,
   "metadata": {},
   "outputs": [
    {
     "name": "stderr",
     "output_type": "stream",
     "text": [
      "C:\\Users\\conneelj.CORPDOM\\AppData\\Local\\anaconda3\\lib\\site-packages\\scipy\\stats\\stats.py:1713: FutureWarning: Using a non-tuple sequence for multidimensional indexing is deprecated; use `arr[tuple(seq)]` instead of `arr[seq]`. In the future this will be interpreted as an array index, `arr[np.array(seq)]`, which will result either in an error or a different result.\n",
      "  return np.add.reduce(sorted[indexer] * weights, axis=axis) / sumval\n"
     ]
    },
    {
     "data": {
      "text/plain": [
       "<matplotlib.axes._subplots.AxesSubplot at 0x24a3d5ea550>"
      ]
     },
     "execution_count": 21,
     "metadata": {},
     "output_type": "execute_result"
    },
    {
     "data": {
      "image/png": "[encoded data removed]",
      "text/plain": [
       "<Figure size 432x288 with 1 Axes>"
      ]
     },
     "metadata": {
      "needs_background": "light"
     },
     "output_type": "display_data"
    }
   ],
   "source": [
    "# look up a dist plot\n",
    "# centered around the 500 mark, which we would expect, NB\n",
    "import seaborn as sns\n",
    "\n",
    "sns.distplot(np.random.binomial(1000, 0.5, 1000))"
   ]
  },
  {
   "cell_type": "code",
   "execution_count": null,
   "metadata": {},
   "outputs": [],
   "source": []
  }
 ],
 "metadata": {
  "kernelspec": {
   "display_name": "Python 3",
   "language": "python",
   "name": "python3"
  },
  "language_info": {
   "codemirror_mode": {
    "name": "ipython",
    "version": 3
   },
   "file_extension": ".py",
   "mimetype": "text/x-python",
   "name": "python",
   "nbconvert_exporter": "python",
   "pygments_lexer": "ipython3",
   "version": "3.7.0"
  }
 },
 "nbformat": 4,
 "nbformat_minor": 2
}
