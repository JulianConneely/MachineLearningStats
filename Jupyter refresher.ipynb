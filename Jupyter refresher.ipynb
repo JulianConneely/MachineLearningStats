{
 "cells": [
  {
   "cell_type": "code",
   "execution_count": 14,
   "metadata": {},
   "outputs": [],
   "source": [
    "# importing the boston housing dataset\n",
    "\n",
    "from sklearn.datasets import load_boston\n",
    "\n",
    "boston_df = load_boston()\n",
    "\n"
   ]
  },
  {
   "cell_type": "code",
   "execution_count": 1,
   "metadata": {},
   "outputs": [
    {
     "name": "stdout",
     "output_type": "stream",
     "text": [
      "The Zen of Python, by Tim Peters\n",
      "\n",
      "Beautiful is better than ugly.\n",
      "Explicit is better than implicit.\n",
      "Simple is better than complex.\n",
      "Complex is better than complicated.\n",
      "Flat is better than nested.\n",
      "Sparse is better than dense.\n",
      "Readability counts.\n",
      "Special cases aren't special enough to break the rules.\n",
      "Although practicality beats purity.\n",
      "Errors should never pass silently.\n",
      "Unless explicitly silenced.\n",
      "In the face of ambiguity, refuse the temptation to guess.\n",
      "There should be one-- and preferably only one --obvious way to do it.\n",
      "Although that way may not be obvious at first unless you're Dutch.\n",
      "Now is better than never.\n",
      "Although never is often better than *right* now.\n",
      "If the implementation is hard to explain, it's a bad idea.\n",
      "If the implementation is easy to explain, it may be a good idea.\n",
      "Namespaces are one honking great idea -- let's do more of those!\n"
     ]
    }
   ],
   "source": [
    "import this"
   ]
  },
  {
   "cell_type": "code",
   "execution_count": 2,
   "metadata": {},
   "outputs": [],
   "source": [
    "def is_even(a):\n",
    "    if a % 2 == 0:\n",
    "        print('Even!')\n",
    "        return True\n",
    "    print('Odd!')\n",
    "    return False"
   ]
  },
  {
   "cell_type": "code",
   "execution_count": 6,
   "metadata": {},
   "outputs": [
    {
     "name": "stdout",
     "output_type": "stream",
     "text": [
      "Odd!\n"
     ]
    },
    {
     "data": {
      "text/plain": [
       "False"
      ]
     },
     "execution_count": 6,
     "metadata": {},
     "output_type": "execute_result"
    }
   ],
   "source": [
    "is_even (5)"
   ]
  },
  {
   "cell_type": "code",
   "execution_count": 8,
   "metadata": {},
   "outputs": [
    {
     "name": "stdout",
     "output_type": "stream",
     "text": [
      "Even!\n"
     ]
    },
    {
     "data": {
      "text/plain": [
       "True"
      ]
     },
     "execution_count": 8,
     "metadata": {},
     "output_type": "execute_result"
    }
   ],
   "source": [
    "is_even (4)"
   ]
  },
  {
   "cell_type": "code",
   "execution_count": 9,
   "metadata": {},
   "outputs": [
    {
     "name": "stdout",
     "output_type": "stream",
     "text": [
      "5 3\n"
     ]
    }
   ],
   "source": [
    "a = 5\n",
    "b = 3\n",
    "print(a,b)"
   ]
  },
  {
   "cell_type": "code",
   "execution_count": 12,
   "metadata": {},
   "outputs": [
    {
     "name": "stdout",
     "output_type": "stream",
     "text": [
      "18\n"
     ]
    }
   ],
   "source": [
    "a = 6\n",
    "b = 3\n",
    "print(a*b)"
   ]
  },
  {
   "cell_type": "code",
   "execution_count": 1,
   "metadata": {},
   "outputs": [
    {
     "data": {
      "image/png": "[encoded data removed]",
      "text/plain": [
       "<PIL.PngImagePlugin.PngImageFile image mode=RGBA size=300x95 at 0x244F691F208>"
      ]
     },
     "metadata": {},
     "output_type": "display_data"
    },
    {
     "data": {
      "image/png": "[encoded data removed]",
      "text/plain": [
       "<PIL.Image.Image image mode=L size=300x95 at 0x244F691F278>"
      ]
     },
     "metadata": {},
     "output_type": "display_data"
    }
   ],
   "source": [
    "# You need to install Pillow for this first: conda install -c anaconda pillow\n",
    "# done\n",
    "\n",
    "import urllib.request\n",
    "import io\n",
    "import PIL.Image\n",
    "\n",
    "URL = 'http://www.gmit.ie/sites/all/themes/gmitpublic/images/gmit_logo.png'\n",
    "\n",
    "with urllib.request.urlopen(URL) as url:\n",
    "    imagefile = io.BytesIO(url.read())\n",
    "    image = PIL.Image.open(imagefile)\n",
    "    imagebw = image.convert('L')\n",
    "\n",
    "display(image, imagebw)"
   ]
  },
  {
   "cell_type": "code",
   "execution_count": 2,
   "metadata": {},
   "outputs": [
    {
     "data": {
      "text/plain": [
       "array([479, 492, 527, 506, 508, 516, 486, 510, 521, 524, 494, 502, 512,\n",
       "       505, 519, 501, 535, 470, 519, 476, 472, 508, 480, 500, 481, 515,\n",
       "       528, 493, 498, 515, 508, 507, 510, 487, 503, 518, 508, 488, 502,\n",
       "       500, 551, 502, 491, 489, 512, 481, 515, 504, 500, 520, 490, 496,\n",
       "       493, 527, 496, 491, 506, 526, 503, 523, 495, 511, 518, 505, 510,\n",
       "       513, 485, 516, 480, 478, 553, 491, 522, 485, 476, 521, 511, 490,\n",
       "       512, 484, 510, 517, 502, 499, 519, 510, 519, 488, 490, 490, 492,\n",
       "       468, 509, 521, 516, 528, 510, 517, 505, 488, 497, 525, 469, 493,\n",
       "       487, 491, 489, 520, 494, 513, 508, 476, 465, 493, 495, 510, 510,\n",
       "       508, 518, 454, 493, 487, 506, 494, 497, 509, 478, 482, 497, 518,\n",
       "       502, 477, 493, 503, 481, 509, 482, 518, 447, 490, 465, 518, 497,\n",
       "       501, 484, 484, 487, 479, 502, 491, 473, 479, 496, 496, 504, 480,\n",
       "       516, 489, 495, 520, 518, 497, 502, 496, 539, 508, 518, 488, 511,\n",
       "       496, 502, 516, 507, 483, 514, 501, 501, 508, 511, 510, 500, 476,\n",
       "       519, 466, 511, 529, 494, 499, 494, 525, 515, 503, 506, 519, 497,\n",
       "       494, 490, 510, 505, 489, 490, 487, 500, 488, 531, 479, 517, 475,\n",
       "       494, 485, 467, 479, 505, 481, 502, 516, 508, 514, 524, 515, 484,\n",
       "       498, 500, 519, 507, 506, 500, 505, 505, 490, 527, 481, 498, 486,\n",
       "       511, 483, 479, 484, 487, 501, 496, 489, 524, 485, 496, 513, 483,\n",
       "       506, 510, 481, 493, 488, 503, 503, 480, 514, 464, 479, 516, 505,\n",
       "       495, 465, 509, 474, 480, 503, 492, 475, 506, 504, 513, 497, 491,\n",
       "       518, 493, 534, 507, 527, 481, 512, 505, 475, 494, 497, 524, 488,\n",
       "       475, 504, 482, 501, 478, 502, 493, 496, 531, 471, 491, 509, 520,\n",
       "       462, 528, 505, 486, 476, 509, 507, 496, 510, 508, 526, 490, 494,\n",
       "       502, 511, 523, 500, 514, 488, 513, 472, 500, 513, 514, 490, 500,\n",
       "       478, 501, 474, 491, 474, 504, 471, 508, 508, 487, 495, 484, 485,\n",
       "       504, 504, 508, 506, 537, 491, 495, 503, 474, 494, 493, 520, 487,\n",
       "       522, 495, 508, 510, 503, 480, 518, 490, 489, 465, 506, 481, 504,\n",
       "       507, 487, 512, 488, 500, 485, 505, 509, 504, 534, 493, 510, 496,\n",
       "       514, 511, 516, 476, 506, 481, 491, 510, 518, 490, 528, 499, 482,\n",
       "       514, 498, 492, 509, 493, 512, 516, 482, 476, 509, 511, 500, 459,\n",
       "       501, 523, 477, 516, 474, 504, 513, 485, 474, 487, 496, 497, 480,\n",
       "       507, 483, 496, 489, 505, 486, 478, 518, 488, 491, 496, 493, 518,\n",
       "       518, 510, 501, 506, 498, 494, 503, 517, 513, 514, 502, 482, 511,\n",
       "       488, 528, 520, 533, 480, 526, 499, 473, 507, 506, 491, 504, 483,\n",
       "       509, 492, 502, 494, 508, 493, 498, 496, 507, 484, 473, 484, 482,\n",
       "       507, 538, 503, 526, 497, 496, 512, 483, 490, 497, 530, 520, 500,\n",
       "       521, 535, 507, 441, 481, 501, 502, 478, 496, 505, 489, 505, 487,\n",
       "       494, 492, 480, 487, 495, 497, 501, 517, 481, 516, 496, 474, 483,\n",
       "       495, 511, 495, 495, 490, 509, 477, 470, 516, 509, 500, 475, 505,\n",
       "       494, 494, 494, 499, 513, 477, 488, 503, 499, 494, 502, 492, 490,\n",
       "       499, 523, 508, 510, 510, 467, 525, 519, 491, 503, 479, 510, 506,\n",
       "       501, 495, 465, 480, 488, 469, 492, 502, 468, 494, 523, 478, 512,\n",
       "       485, 498, 481, 509, 505, 492, 506, 507, 469, 501, 489, 482, 521,\n",
       "       490, 484, 491, 467, 475, 491, 505, 507, 502, 475, 495, 500, 501,\n",
       "       507, 545, 489, 502, 470, 478, 495, 487, 508, 496, 459, 503, 476,\n",
       "       514, 507, 514, 542, 488, 505, 502, 523, 511, 516, 505, 491, 484,\n",
       "       507, 511, 533, 487, 511, 508, 489, 516, 486, 490, 483, 515, 502,\n",
       "       478, 508, 516, 469, 502, 509, 479, 513, 532, 529, 469, 513, 533,\n",
       "       514, 480, 502, 502, 493, 465, 484, 477, 504, 489, 497, 500, 498,\n",
       "       489, 512, 472, 494, 510, 510, 517, 513, 477, 506, 509, 511, 513,\n",
       "       494, 502, 504, 487, 507, 492, 491, 476, 497, 530, 502, 510, 461,\n",
       "       498, 479, 513, 479, 505, 482, 500, 497, 497, 489, 502, 498, 467,\n",
       "       513, 507, 481, 497, 481, 506, 505, 476, 480, 481, 504, 502, 497,\n",
       "       517, 500, 508, 523, 498, 494, 522, 502, 516, 504, 496, 508, 550,\n",
       "       485, 501, 482, 527, 497, 479, 493, 504, 526, 495, 536, 535, 517,\n",
       "       519, 491, 487, 495, 497, 508, 470, 510, 528, 497, 471, 515, 488,\n",
       "       510, 523, 482, 529, 514, 490, 476, 525, 522, 477, 502, 489, 498,\n",
       "       485, 493, 515, 498, 506, 499, 498, 500, 490, 504, 491, 504, 506,\n",
       "       467, 484, 491, 487, 512, 504, 481, 512, 484, 491, 520, 495, 500,\n",
       "       477, 484, 490, 489, 486, 513, 478, 501, 509, 522, 486, 518, 502,\n",
       "       484, 497, 487, 482, 513, 489, 520, 514, 507, 494, 498, 517, 508,\n",
       "       500, 508, 492, 527, 510, 488, 501, 513, 484, 501, 523, 477, 501,\n",
       "       489, 492, 518, 500, 508, 503, 504, 515, 505, 498, 501, 489, 465,\n",
       "       519, 504, 499, 516, 517, 514, 492, 495, 514, 485, 472, 503, 510,\n",
       "       490, 473, 485, 512, 547, 497, 482, 517, 519, 517, 507, 494, 472,\n",
       "       467, 496, 524, 467, 539, 505, 506, 530, 492, 510, 510, 503, 515,\n",
       "       510, 482, 484, 512, 505, 496, 497, 509, 499, 503, 528, 521, 486,\n",
       "       500, 513, 527, 519, 495, 537, 505, 512, 515, 508, 511, 506, 503,\n",
       "       477, 501, 505, 503, 508, 494, 500, 502, 521, 477, 483, 523, 495,\n",
       "       501, 500, 497, 487, 485, 497, 490, 481, 494, 491, 502, 481, 492,\n",
       "       524, 492, 512, 520, 472, 500, 504, 475, 477, 519, 498, 497, 500,\n",
       "       518, 511, 482, 478, 485, 499, 506, 489, 517, 500, 492, 520, 470,\n",
       "       525, 511, 504, 477, 523, 535, 468, 501, 512, 506, 511, 511, 503,\n",
       "       527, 504, 519, 495, 484, 513, 500, 486, 504, 496, 504, 500, 499,\n",
       "       490, 490, 513, 509, 513, 487, 529, 481, 514, 485, 496, 489, 509,\n",
       "       505, 503, 516, 500, 499, 521, 498, 487, 503, 518, 493, 497])"
      ]
     },
     "execution_count": 2,
     "metadata": {},
     "output_type": "execute_result"
    }
   ],
   "source": [
    "# flip a coin 1k times, with a probability of .5, do this 1000 times\n",
    "import numpy as np\n",
    "np.random.binomial(1000, 0.5, 1000)"
   ]
  },
  {
   "cell_type": "code",
   "execution_count": 3,
   "metadata": {},
   "outputs": [
    {
     "name": "stderr",
     "output_type": "stream",
     "text": [
      "C:\\Users\\conneelj.CORPDOM\\AppData\\Local\\anaconda3\\lib\\site-packages\\scipy\\stats\\stats.py:1713: FutureWarning: Using a non-tuple sequence for multidimensional indexing is deprecated; use `arr[tuple(seq)]` instead of `arr[seq]`. In the future this will be interpreted as an array index, `arr[np.array(seq)]`, which will result either in an error or a different result.\n",
      "  return np.add.reduce(sorted[indexer] * weights, axis=axis) / sumval\n"
     ]
    },
    {
     "data": {
      "text/plain": [
       "<matplotlib.axes._subplots.AxesSubplot at 0x244fa2d8c18>"
      ]
     },
     "execution_count": 3,
     "metadata": {},
     "output_type": "execute_result"
    }
   ],
   "source": [
    "# look up a dist plot\n",
    "# centered around the 500 mark, which we would expect, NB\n",
    "import seaborn as sns\n",
    "\n",
    "sns.distplot(np.random.binomial(1000, 0.5, 1000))"
   ]
  },
  {
   "cell_type": "code",
   "execution_count": null,
   "metadata": {},
   "outputs": [],
   "source": []
  }
 ],
 "metadata": {
  "kernelspec": {
   "display_name": "Python 3",
   "language": "python",
   "name": "python3"
  },
  "language_info": {
   "codemirror_mode": {
    "name": "ipython",
    "version": 3
   },
   "file_extension": ".py",
   "mimetype": "text/x-python",
   "name": "python",
   "nbconvert_exporter": "python",
   "pygments_lexer": "ipython3",
   "version": "3.7.0"
  }
 },
 "nbformat": 4,
 "nbformat_minor": 2
}
